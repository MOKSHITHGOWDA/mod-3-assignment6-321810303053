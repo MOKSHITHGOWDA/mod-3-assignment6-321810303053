{
 "cells": [
  {
   "cell_type": "code",
   "execution_count": 2,
   "metadata": {},
   "outputs": [
    {
     "name": "stdout",
     "output_type": "stream",
     "text": [
      "how many numbers:5\n",
      "enter number4\n",
      "enter number6\n",
      "enter number7\n",
      "enter number2\n",
      "enter number9\n",
      "maximum element in the list is: 9\n",
      "\n",
      "minimum element in the list is: 2\n"
     ]
    }
   ],
   "source": [
    "lst=[]\n",
    "num=int(input('how many numbers:'))\n",
    "for n in range(num):\n",
    "    numbers=int(input('enter number'))\n",
    "    lst.append(numbers)\n",
    "print(\"maximum element in the list is:\",max(lst))\n",
    "print(\"\\nminimum element in the list is:\",min(lst))\n"
   ]
  },
  {
   "cell_type": "code",
   "execution_count": null,
   "metadata": {},
   "outputs": [],
   "source": []
  }
 ],
 "metadata": {
  "kernelspec": {
   "display_name": "Python 3",
   "language": "python",
   "name": "python3"
  },
  "language_info": {
   "codemirror_mode": {
    "name": "ipython",
    "version": 3
   },
   "file_extension": ".py",
   "mimetype": "text/x-python",
   "name": "python",
   "nbconvert_exporter": "python",
   "pygments_lexer": "ipython3",
   "version": "3.7.6"
  }
 },
 "nbformat": 4,
 "nbformat_minor": 4
}
