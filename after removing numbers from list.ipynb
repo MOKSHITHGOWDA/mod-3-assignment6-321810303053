{
 "cells": [
  {
   "cell_type": "code",
   "execution_count": 2,
   "metadata": {},
   "outputs": [
    {
     "name": "stdout",
     "output_type": "stream",
     "text": [
      "[10, 20, 30, 40, 50]\n",
      "enter the position to remove the element:3\n",
      "[10, 20, 30, 50]\n"
     ]
    }
   ],
   "source": [
    "l =[10,20,30,40,50]\n",
    "print(l)\n",
    "pos =int(input(\"enter the position to remove the element:\"))\n",
    "if(len(l)>pos):\n",
    "    del l[pos]\n",
    "    print(l)\n",
    "else:\n",
    "    print(\"index out of range\")"
   ]
  },
  {
   "cell_type": "code",
   "execution_count": null,
   "metadata": {},
   "outputs": [],
   "source": []
  }
 ],
 "metadata": {
  "kernelspec": {
   "display_name": "Python 3",
   "language": "python",
   "name": "python3"
  },
  "language_info": {
   "codemirror_mode": {
    "name": "ipython",
    "version": 3
   },
   "file_extension": ".py",
   "mimetype": "text/x-python",
   "name": "python",
   "nbconvert_exporter": "python",
   "pygments_lexer": "ipython3",
   "version": "3.7.6"
  }
 },
 "nbformat": 4,
 "nbformat_minor": 4
}
