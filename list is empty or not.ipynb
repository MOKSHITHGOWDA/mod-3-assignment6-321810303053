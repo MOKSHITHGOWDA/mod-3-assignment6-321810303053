{
 "cells": [
  {
   "cell_type": "code",
   "execution_count": 3,
   "metadata": {},
   "outputs": [
    {
     "name": "stdout",
     "output_type": "stream",
     "text": [
      "enter the number of elements5\n",
      "1\n",
      "5\n",
      "9\n",
      "7\n",
      "6\n",
      "the list is not empty\n"
     ]
    }
   ],
   "source": [
    "n=int(input(\"enter the number of elements\"))\n",
    "ls=[]\n",
    "for i in range(n):\n",
    "    items=int(input())\n",
    "    ls.append(items)\n",
    "if(len(ls)==0):\n",
    "    print(\"the list is empty\")\n",
    "else:\n",
    "    print(\"the list is not empty\")"
   ]
  },
  {
   "cell_type": "code",
   "execution_count": null,
   "metadata": {},
   "outputs": [],
   "source": []
  }
 ],
 "metadata": {
  "kernelspec": {
   "display_name": "Python 3",
   "language": "python",
   "name": "python3"
  },
  "language_info": {
   "codemirror_mode": {
    "name": "ipython",
    "version": 3
   },
   "file_extension": ".py",
   "mimetype": "text/x-python",
   "name": "python",
   "nbconvert_exporter": "python",
   "pygments_lexer": "ipython3",
   "version": "3.7.6"
  }
 },
 "nbformat": 4,
 "nbformat_minor": 4
}
